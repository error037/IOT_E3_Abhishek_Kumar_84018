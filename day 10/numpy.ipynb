{
 "cells": [
  {
   "cell_type": "code",
   "execution_count": 1,
   "id": "a695a51a-81d2-431e-af9b-64f11ccbbb78",
   "metadata": {},
   "outputs": [],
   "source": [
    "#1. Write a NumPy program to create an array with the values 1, 7, 13, 105    and determine the size of the memory occupied by the array."
   ]
  },
  {
   "cell_type": "code",
   "execution_count": 14,
   "id": "9d5133c8-d401-4559-a4eb-7e25df877f37",
   "metadata": {},
   "outputs": [],
   "source": [
    "import numpy as np"
   ]
  },
  {
   "cell_type": "code",
   "execution_count": 15,
   "id": "70ed2798-4619-4284-943e-f1312907c8c2",
   "metadata": {},
   "outputs": [],
   "source": [
    "def arr():\n",
    "    a1 = np.array([1,7,13,105])\n",
    "    print(a1)\n",
    "    print(a1.itemsize)\n",
    "    print(a1.nbytes)"
   ]
  },
  {
   "cell_type": "code",
   "execution_count": 16,
   "id": "2fa9068b-47e2-46fc-9f9f-d07ad15542e4",
   "metadata": {},
   "outputs": [
    {
     "name": "stdout",
     "output_type": "stream",
     "text": [
      "[  1   7  13 105]\n",
      "8\n",
      "32\n"
     ]
    }
   ],
   "source": [
    "arr()"
   ]
  },
  {
   "cell_type": "code",
   "execution_count": 17,
   "id": "f1ac758e-833a-4a16-81c3-96dc4b340ce4",
   "metadata": {},
   "outputs": [],
   "source": [
    "# 2. Write a NumPy program to create an element-wise comparison (greater,    greater_equal, less and less_equal) of two given arrays."
   ]
  },
  {
   "cell_type": "code",
   "execution_count": 18,
   "id": "d0220829-0011-4bcd-a935-460bd81ee70f",
   "metadata": {},
   "outputs": [],
   "source": [
    "def com(a):\n",
    "    n1 = np.array([1,2,3,4,5,6,0])\n",
    "    n2 = np.array([7,6,5,4,3,2,0])\n",
    "\n",
    "    if n1[a] == n2[a] :\n",
    "            print(f\"both are same\")\n",
    "    elif n1[a] <= n2[a] :\n",
    "            print(f\" n2 is big\")\n",
    "\n",
    "    elif n1[a] >= n2[a] :\n",
    "            print(f\"n1 is  big\")"
   ]
  },
  {
   "cell_type": "code",
   "execution_count": 19,
   "id": "9f8862e3-3ed8-48b1-80b4-87eade7e0e1d",
   "metadata": {},
   "outputs": [
    {
     "name": "stdout",
     "output_type": "stream",
     "text": [
      "n1 is  big\n"
     ]
    }
   ],
   "source": [
    "com(5)"
   ]
  },
  {
   "cell_type": "code",
   "execution_count": 20,
   "id": "66f9c4da-9516-4891-986a-acff2d72a25c",
   "metadata": {},
   "outputs": [],
   "source": [
    "# 3.  Write a NumPy program to create an array of 10 zeros, 10 ones, 10    fives, 10 tens, 10 twentys and 10 fiftys.\n",
    "def a():\n",
    "    q1 = np.zeros(10, dtype=np.int8)\n",
    "    print(q1)\n",
    "    q1 = np.ones(10, dtype=np.int8)\n",
    "    print(q1)\n",
    "    q1 = np.ones(10, dtype=np.int8)\n",
    "    print(q1*5)\n",
    "    q1 = np.ones(10, dtype=np.int8)\n",
    "    print(q1*10)    \n",
    "    q1 = np.ones(10, dtype=np.int8)\n",
    "    print(q1*20)\n",
    "    q1 = np.ones(10, dtype=np.int8)\n",
    "    print(q1*50)"
   ]
  },
  {
   "cell_type": "code",
   "execution_count": 22,
   "id": "9147554c-c588-4ed5-8cdf-e110c097349a",
   "metadata": {},
   "outputs": [
    {
     "name": "stdout",
     "output_type": "stream",
     "text": [
      "[0 0 0 0 0 0 0 0 0 0]\n",
      "[1 1 1 1 1 1 1 1 1 1]\n",
      "[5 5 5 5 5 5 5 5 5 5]\n",
      "[10 10 10 10 10 10 10 10 10 10]\n",
      "[20 20 20 20 20 20 20 20 20 20]\n",
      "[50 50 50 50 50 50 50 50 50 50]\n"
     ]
    }
   ],
   "source": [
    "a()"
   ]
  },
  {
   "cell_type": "code",
   "execution_count": 23,
   "id": "d7d73d4f-63bd-4e52-b526-e044038270ba",
   "metadata": {},
   "outputs": [],
   "source": [
    "# 4. Write a NumPy program to create an array of integers from 30 to 70.\n",
    "# 5. Write a NumPy program to create an array of integers from 50 to 95."
   ]
  },
  {
   "cell_type": "code",
   "execution_count": 27,
   "id": "880014c5-8e0e-40f1-ad76-0ec4909a71ed",
   "metadata": {},
   "outputs": [],
   "source": [
    "def fun1():\n",
    "    a1 = np.arange(30, 71)\n",
    "    print(a1)\n",
    "    a1 = np.arange(50, 96)\n",
    "    print(a1)"
   ]
  },
  {
   "cell_type": "code",
   "execution_count": 28,
   "id": "58be9880-5994-4b93-abc0-fcd0b7d0bbbd",
   "metadata": {},
   "outputs": [
    {
     "name": "stdout",
     "output_type": "stream",
     "text": [
      "[30 31 32 33 34 35 36 37 38 39 40 41 42 43 44 45 46 47 48 49 50 51 52 53\n",
      " 54 55 56 57 58 59 60 61 62 63 64 65 66 67 68 69 70]\n",
      "[50 51 52 53 54 55 56 57 58 59 60 61 62 63 64 65 66 67 68 69 70 71 72 73\n",
      " 74 75 76 77 78 79 80 81 82 83 84 85 86 87 88 89 90 91 92 93 94 95]\n"
     ]
    }
   ],
   "source": [
    "fun1()"
   ]
  },
  {
   "cell_type": "code",
   "execution_count": 29,
   "id": "c7b19441-fd90-4037-bb03-33f215ff2854",
   "metadata": {},
   "outputs": [],
   "source": [
    "# 6. Write a NumPy program to create an array of all even integers from 20 to 80.\n",
    "def fun2():\n",
    "    a1 = np.arange(20, 81, 2)\n",
    "    print(a1)"
   ]
  },
  {
   "cell_type": "code",
   "execution_count": 30,
   "id": "7471b5a0-e6c8-45dc-ba6c-0feb317f2630",
   "metadata": {},
   "outputs": [
    {
     "name": "stdout",
     "output_type": "stream",
     "text": [
      "[20 22 24 26 28 30 32 34 36 38 40 42 44 46 48 50 52 54 56 58 60 62 64 66\n",
      " 68 70 72 74 76 78 80]\n"
     ]
    }
   ],
   "source": [
    "fun2()"
   ]
  },
  {
   "cell_type": "code",
   "execution_count": 31,
   "id": "40654328-8e7e-4d62-9b4a-c5e72673a814",
   "metadata": {},
   "outputs": [],
   "source": [
    "# 7. Write a NumPy program to create an array of all odd integers from 20 to 80."
   ]
  },
  {
   "cell_type": "code",
   "execution_count": 38,
   "id": "116ed861-72d5-4290-b892-4e67d970773e",
   "metadata": {},
   "outputs": [],
   "source": [
    "def fun3():\n",
    "    a1 = np.arange(21, 81, 2)\n",
    "    print(a1)"
   ]
  },
  {
   "cell_type": "code",
   "execution_count": 39,
   "id": "ff11a88d-42c2-4ba8-a63f-f9789ae8b465",
   "metadata": {},
   "outputs": [
    {
     "name": "stdout",
     "output_type": "stream",
     "text": [
      "[21 23 25 27 29 31 33 35 37 39 41 43 45 47 49 51 53 55 57 59 61 63 65 67\n",
      " 69 71 73 75 77 79]\n"
     ]
    }
   ],
   "source": [
    "fun3()"
   ]
  },
  {
   "cell_type": "code",
   "execution_count": 40,
   "id": "5b4b8aa1-1bdf-425b-a4a8-48ef35db96ab",
   "metadata": {},
   "outputs": [],
   "source": [
    "# 8. Write a NumPy program to generate an array of 15 random numbers from 10    to 40."
   ]
  },
  {
   "cell_type": "code",
   "execution_count": 42,
   "id": "0a29818f-af57-4558-8136-ee8cdacf35b2",
   "metadata": {},
   "outputs": [
    {
     "name": "stdout",
     "output_type": "stream",
     "text": [
      "[12 23 18 35 34 39 34 21 34 25 35 11 39 16 15]\n"
     ]
    }
   ],
   "source": [
    "a2 = np.random.randint(10, 40,15)\n",
    "print(a2)"
   ]
  },
  {
   "cell_type": "code",
   "execution_count": 43,
   "id": "38714a01-b02b-42fd-9205-25686a5ec547",
   "metadata": {},
   "outputs": [
    {
     "name": "stdout",
     "output_type": "stream",
     "text": [
      "[31 44 35 39 30 38 32 42 31 33]\n"
     ]
    }
   ],
   "source": [
    "# 9. Write a NumPy program to generate an array of 10 random numbers from 30    to 50.\n",
    "a2 = np.random.randint(30, 50,10)\n",
    "print(a2)\n"
   ]
  },
  {
   "cell_type": "code",
   "execution_count": 44,
   "id": "f3d67ad9-c061-408a-a5a6-f3acf08d70e7",
   "metadata": {},
   "outputs": [
    {
     "name": "stdout",
     "output_type": "stream",
     "text": [
      "[76 52 67 50 79 57 58 79 71 80 85 51 81 53 50 74 54 89 56 59]\n"
     ]
    }
   ],
   "source": [
    "# 10. Write a NumPy program to generate an array of 20 random numbers from 50    to 90.\n",
    "a2 = np.random.randint(50, 90,20)\n",
    "print(a2)"
   ]
  },
  {
   "cell_type": "code",
   "execution_count": 47,
   "id": "7e481a4c-ede9-4f19-996f-b5a1b3a89dc8",
   "metadata": {},
   "outputs": [
    {
     "name": "stdout",
     "output_type": "stream",
     "text": [
      "[8 8 8 8 8 8 2]\n",
      "[-6 -4 -2  0  2  4  0]\n",
      "[ 7 12 15 16 15 12  1]\n",
      "[0.14285714 0.33333333 0.6        1.         1.66666667 3.\n",
      " 1.        ]\n"
     ]
    }
   ],
   "source": [
    "# 11. Create any two arrays & perform various mathematical operations. i.e. Addition, Substraction, Multiplication, Divide.\n",
    "a1 = np.array([1,2,3,4,5,6,1])\n",
    "a2 = np.array([7,6,5,4,3,2,1])\n",
    "print(a1 + a2) \n",
    "print(a1 - a2) \n",
    "print(a1 * a2) \n",
    "print(a1 / a2) \n",
    "\n",
    "\n"
   ]
  },
  {
   "cell_type": "code",
   "execution_count": 68,
   "id": "0876e509-701b-458b-9c44-7bd1400795da",
   "metadata": {},
   "outputs": [
    {
     "name": "stdout",
     "output_type": "stream",
     "text": [
      "[[10 11 12 13]\n",
      " [14 15 16 17]\n",
      " [18 19 20 21]]\n"
     ]
    }
   ],
   "source": [
    "# 12. Write a NumPy program to create a 3x4 matrix filled with values from 10     to 21.\n",
    "\n",
    "m = np.arange(10, 22).reshape((3, 4))\n",
    "\n",
    "print(m)\n",
    "\n",
    "\n"
   ]
  },
  {
   "cell_type": "code",
   "execution_count": 69,
   "id": "fbc23609-a3ab-4ae0-8f91-5a65c63b2a24",
   "metadata": {},
   "outputs": [
    {
     "name": "stdout",
     "output_type": "stream",
     "text": [
      "[[1. 0. 0.]\n",
      " [0. 1. 0.]\n",
      " [0. 0. 1.]]\n"
     ]
    }
   ],
   "source": [
    "# 13. Write a NumPy program to create a 3x3 identity matrix, i.e. the diagonal     elements are 1, the rest are 0.\n",
    "\n",
    "x = np.eye(3)\n",
    "print(x)\n"
   ]
  },
  {
   "cell_type": "code",
   "execution_count": 71,
   "id": "1977f9e0-d792-4cd1-89a9-e44b8b5ce6df",
   "metadata": {},
   "outputs": [
    {
     "name": "stdout",
     "output_type": "stream",
     "text": [
      "[[10 11 12 13]\n",
      " [14 15 16 17]\n",
      " [18 19 20 21]]\n",
      "(3, 4)\n"
     ]
    }
   ],
   "source": [
    "# 14. Write a NumPy program to find the number of rows and columns in a given     matrix. \n",
    "\n",
    "m = np.arange(10, 22).reshape((3, 4))\n",
    "\n",
    "print(m)\n",
    "\n",
    "print(m.shape)\n",
    "\n"
   ]
  },
  {
   "cell_type": "code",
   "execution_count": 73,
   "id": "4c7bbdff-1a74-4862-a24b-b4ac967d51d0",
   "metadata": {},
   "outputs": [
    {
     "name": "stdout",
     "output_type": "stream",
     "text": [
      "[[1 0 0 0 0]\n",
      " [0 2 0 0 0]\n",
      " [0 0 3 0 0]\n",
      " [0 0 0 4 0]\n",
      " [0 0 0 0 5]]\n"
     ]
    }
   ],
   "source": [
    "# 15. Write a NumPy program to create a 5x5 zero matrix with elements on the     main diagonal equal to 1, 2, 3, 4, 5.\n",
    "\n",
    "\n",
    "\n",
    "\n",
    "x = np.diag([1, 2, 3, 4, 5])\n",
    "\n",
    "print(x)\n",
    "\n",
    "\n"
   ]
  },
  {
   "cell_type": "code",
   "execution_count": 76,
   "id": "cef2dcbe-fd11-4341-a207-b533b53c977e",
   "metadata": {},
   "outputs": [
    {
     "name": "stdout",
     "output_type": "stream",
     "text": [
      "[[[0.36899626 0.10936734 0.18236859]\n",
      "  [0.20421038 0.85266961 0.44978525]\n",
      "  [0.81727902 0.21959924 0.92665384]]\n",
      "\n",
      " [[0.49015374 0.35568977 0.85416991]\n",
      "  [0.15466955 0.95280469 0.97387686]\n",
      "  [0.27427808 0.57403167 0.16820669]]\n",
      "\n",
      " [[0.60710132 0.3721937  0.88932697]\n",
      "  [0.13915184 0.58542614 0.32248631]\n",
      "  [0.55462647 0.57447224 0.84392422]]]\n"
     ]
    }
   ],
   "source": [
    "# 16. Write a NumPy program to create a 3x3x3 array filled with arbitrary values.\n",
    "\n",
    "\n",
    "x = np.random.random((3, 3, 3))\n",
    "print(x)\n"
   ]
  },
  {
   "cell_type": "code",
   "execution_count": 79,
   "id": "217f3b10-6f79-4118-be64-ff0bdf07dcf4",
   "metadata": {},
   "outputs": [
    {
     "name": "stdout",
     "output_type": "stream",
     "text": [
      "[[[0.92160051 0.33192216 0.36297072 0.84157071]\n",
      "  [0.68856016 0.63349464 0.92924459 0.41963949]\n",
      "  [0.19414835 0.6616296  0.61596784 0.83099141]]\n",
      "\n",
      " [[0.91232096 0.3219249  0.68194356 0.49301884]\n",
      "  [0.60575484 0.48421761 0.90611794 0.18586695]\n",
      "  [0.4304405  0.68069537 0.00706725 0.40680719]]]\n"
     ]
    }
   ],
   "source": [
    "# 17. Write a NumPy program to create a 2x3x4 array filled with arbitrary     values.\n",
    "\n",
    "x = np.random.random((2, 3, 4))\n",
    "print(x)"
   ]
  },
  {
   "cell_type": "code",
   "execution_count": 89,
   "id": "36e45059-77c2-4e74-aadc-fa673a6b69a4",
   "metadata": {},
   "outputs": [
    {
     "name": "stdout",
     "output_type": "stream",
     "text": [
      "[1, 2, 3, 4, 5, 6, 7, 8, 9, 0]\n",
      "[1 2 3 4 5 6 7 8 9 0]\n"
     ]
    }
   ],
   "source": [
    "# 18. Write a NumPy program to convert a list of numeric values into a one-    dimensional NumPy array.\n",
    "\n",
    "a = [1,2,3,4,5,6,7,8,9,0]\n",
    "print(a)\n",
    "\n",
    "c = np.array(a)\n",
    "print(c)"
   ]
  },
  {
   "cell_type": "code",
   "execution_count": 90,
   "id": "4117b0ef-1232-4c81-8a74-ef307c285204",
   "metadata": {},
   "outputs": [
    {
     "name": "stdout",
     "output_type": "stream",
     "text": [
      "[[ 2  3  4]\n",
      " [ 5  6  7]\n",
      " [ 8  9 10]]\n"
     ]
    }
   ],
   "source": [
    "# 19. Write a NumPy program to create a 3x3 matrix with values ranging from 2     to 10.\n",
    "\n",
    "a = np.arange(2, 11).reshape(3, 3)\n",
    "\n",
    "print(a)\n",
    "\n"
   ]
  },
  {
   "cell_type": "code",
   "execution_count": 91,
   "id": "899a3e5f-112f-48e9-9317-c3538621fa3b",
   "metadata": {},
   "outputs": [
    {
     "name": "stdout",
     "output_type": "stream",
     "text": [
      "[12 13 14 15 16 17 18 19 20 21 22 23 24 25 26 27 28 29 30 31 32 33 34 35\n",
      " 36 37 38]\n"
     ]
    }
   ],
   "source": [
    "# 20. Write a NumPy program to create an array with values ranging from 12 to 38.\n",
    "\n",
    "a1 = np.arange(12, 39)\n",
    "print(a1)\n",
    "\n"
   ]
  },
  {
   "cell_type": "code",
   "execution_count": 93,
   "id": "9a090c62-1bf8-40e0-ae02-8b2a841caee3",
   "metadata": {},
   "outputs": [
    {
     "name": "stdout",
     "output_type": "stream",
     "text": [
      "[12 13 14 15 16 17 18 19 20 21 22 23 24 25 26 27 28 29 30 31 32 33 34 35\n",
      " 36 37 38]\n",
      "[38 37 36 35 34 33 32 31 30 29 28 27 26 25 24 23 22 21 20 19 18 17 16 15\n",
      " 14 13 12]\n"
     ]
    }
   ],
   "source": [
    "# 21. Write a NumPy program to reverse an array (the first element becomes the last).\n",
    "\n",
    "a1 = np.arange(12, 39)\n",
    "print(a1)\n",
    "a2 = a1[::-1]\n",
    "\n",
    "print(a2)\n"
   ]
  },
  {
   "cell_type": "code",
   "execution_count": 96,
   "id": "95eba503-b40b-4623-be62-cea5d3b4659f",
   "metadata": {},
   "outputs": [
    {
     "name": "stdout",
     "output_type": "stream",
     "text": [
      "[12. 13. 14. 15. 16. 17. 18. 19. 20. 21. 22. 23. 24. 25. 26. 27. 28. 29.\n",
      " 30. 31. 32. 33. 34. 35. 36. 37. 38.]\n"
     ]
    }
   ],
   "source": [
    "# 22. Write a NumPy program to convert an data type into to a floating type.\n",
    "\n",
    "a = np.arange(12, 39)\n",
    "\n",
    "\n",
    "x = np.asfarray(a)\n",
    "\n",
    "print(x)"
   ]
  },
  {
   "cell_type": "code",
   "execution_count": 97,
   "id": "c92624ef-27df-4f7f-b97f-f197f6a653f9",
   "metadata": {},
   "outputs": [
    {
     "name": "stdout",
     "output_type": "stream",
     "text": [
      "[1, 2, 3, 4, 5, 6, 7, 8, 9, 0]\n",
      "[1 2 3 4 5 6 7 8 9 0]\n"
     ]
    }
   ],
   "source": [
    "# 23. Write a NumPy program to convert a list array.\n",
    "\n",
    "a = [1,2,3,4,5,6,7,8,9,0]\n",
    "print(a)\n",
    "\n",
    "c = np.array(a)\n",
    "print(c)"
   ]
  },
  {
   "cell_type": "code",
   "execution_count": 99,
   "id": "c0175469-e2e2-4296-b87d-378b91aa2991",
   "metadata": {},
   "outputs": [
    {
     "name": "stdout",
     "output_type": "stream",
     "text": [
      "[1 2 3 4 0 1 2 3 4]\n"
     ]
    }
   ],
   "source": [
    "# 24. Write a NumPy program to get the element-wise remainder of an array of division.\n",
    "\n",
    "a = np.arange(1, 10)\n",
    "print(np.remainder(a, 5)) "
   ]
  },
  {
   "cell_type": "code",
   "execution_count": 100,
   "id": "37e532ea-9fc3-4f4b-97cd-5c7e0651530b",
   "metadata": {},
   "outputs": [
    {
     "name": "stdout",
     "output_type": "stream",
     "text": [
      "[2 0 1 2 0 1 2 0 1 2 0 1 2 0 1 2 0 1 2 0 1 2 0 1 2 0 1 2 0 1]\n"
     ]
    }
   ],
   "source": [
    "# 25. Write a NumPy program to get the element-wise remainder of an array of numbers from 20 to 50 which are divisible by 3.\n",
    "\n",
    "\n",
    "a = np.arange(20, 50)\n",
    "print(np.remainder(a, 3)) "
   ]
  },
  {
   "cell_type": "code",
   "execution_count": null,
   "id": "16a1e74f-2b8b-4ca6-9657-2b0964fe67ca",
   "metadata": {},
   "outputs": [],
   "source": []
  }
 ],
 "metadata": {
  "kernelspec": {
   "display_name": "Python 3 (ipykernel)",
   "language": "python",
   "name": "python3"
  },
  "language_info": {
   "codemirror_mode": {
    "name": "ipython",
    "version": 3
   },
   "file_extension": ".py",
   "mimetype": "text/x-python",
   "name": "python",
   "nbconvert_exporter": "python",
   "pygments_lexer": "ipython3",
   "version": "3.10.12"
  }
 },
 "nbformat": 4,
 "nbformat_minor": 5
}
