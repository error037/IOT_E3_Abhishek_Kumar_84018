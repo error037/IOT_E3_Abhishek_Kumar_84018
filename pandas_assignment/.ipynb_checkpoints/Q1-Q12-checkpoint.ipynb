{
 "cells": [
  {
   "cell_type": "code",
   "execution_count": 3,
   "id": "5a04b824-bece-4915-b4d7-7e98f1b5a39a",
   "metadata": {},
   "outputs": [],
   "source": [
    "import numpy as np\n",
    "import pandas as pd"
   ]
  },
  {
   "cell_type": "code",
   "execution_count": 4,
   "id": "5040c662-9e2a-4113-9c3d-2674e1ce2704",
   "metadata": {},
   "outputs": [
    {
     "name": "stdout",
     "output_type": "stream",
     "text": [
      "N_ARR = [1, 2, 3, 4, 5] Type = <class 'list'>\n",
      "0    1\n",
      "1    2\n",
      "2    3\n",
      "3    4\n",
      "4    5\n",
      "dtype: int64\n"
     ]
    }
   ],
   "source": [
    "#1. Write a Pandas program to create and display a one-dimensional array-like object containing an array of data.\n",
    "data = [1, 2, 3, 4, 5] \n",
    "print(f\"N_ARR = {data} Type = {type(data)}\")\n",
    "s_series  = pd.Series(data)\n",
    "print(s_series)   \n",
    "    "
   ]
  },
  {
   "cell_type": "code",
   "execution_count": 5,
   "id": "a3e88bac-972f-4feb-9edf-7de2d1d4f2ca",
   "metadata": {},
   "outputs": [
    {
     "name": "stdout",
     "output_type": "stream",
     "text": [
      "Pandas Series and type\n",
      "0    10\n",
      "1    20\n",
      "2    30\n",
      "3    40\n",
      "4    50\n",
      "5    60\n",
      "dtype: int64\n",
      "<class 'pandas.core.series.Series'>\n",
      "Convert Pandas Series to Python list\n",
      "[10, 20, 30, 40, 50, 60]\n",
      "<class 'list'>\n"
     ]
    }
   ],
   "source": [
    "#2. Write a Pandas program to convert a Panda module Series to Python list and it’s type.\n",
    "def function2():\n",
    "    n_series = pd.Series([10,20,30,40,50,60])\n",
    "    print(\"Pandas Series and type\")\n",
    "    print(n_series)\n",
    "    print(type(n_series))\n",
    "    print(\"Convert Pandas Series to Python list\")\n",
    "    print(n_series.tolist())\n",
    "    print(type(n_series.tolist()))\n",
    "function2()\n"
   ]
  },
  {
   "cell_type": "code",
   "execution_count": 6,
   "id": "bf723d8b-38ca-4ae9-92b1-3b320b889fbf",
   "metadata": {},
   "outputs": [
    {
     "name": "stdout",
     "output_type": "stream",
     "text": [
      "Add two Series:\n",
      "0     3\n",
      "1     7\n",
      "2    11\n",
      "3    15\n",
      "4    19\n",
      "dtype: int64\n",
      "Subtract two Series:\n",
      "0    1\n",
      "1    1\n",
      "2    1\n",
      "3    1\n",
      "4    1\n",
      "dtype: int64\n",
      "Multiply two Series:\n",
      "0     2\n",
      "1    12\n",
      "2    30\n",
      "3    56\n",
      "4    90\n",
      "dtype: int64\n",
      "Divide Series1 by Series2:\n",
      "0    2.000000\n",
      "1    1.333333\n",
      "2    1.200000\n",
      "3    1.142857\n",
      "4    1.111111\n",
      "dtype: float64\n"
     ]
    }
   ],
   "source": [
    "#3 Write a Pandas program to add, subtract, multiple and divide two Pandas Series. Sample Series: [2, 4, 6, 8, 10], [1, 3, 5, 7, 9]\n",
    "import pandas as pd\n",
    "ds1 = pd.Series([2, 4, 6, 8, 10])\n",
    "ds2 = pd.Series([1, 3, 5, 7, 9])\n",
    "ds = ds1 + ds2\n",
    "print(\"Add two Series:\")\n",
    "print(ds)\n",
    "print(\"Subtract two Series:\")\n",
    "ds = ds1 - ds2\n",
    "print(ds)\n",
    "print(\"Multiply two Series:\")\n",
    "ds = ds1 * ds2\n",
    "print(ds)\n",
    "print(\"Divide Series1 by Series2:\")\n",
    "ds = ds1 / ds2\n",
    "print(ds)"
   ]
  },
  {
   "cell_type": "code",
   "execution_count": 7,
   "id": "21c0b721-4367-4fc7-be56-83fa8447b4f2",
   "metadata": {},
   "outputs": [
    {
     "name": "stdout",
     "output_type": "stream",
     "text": [
      "Name          GYAN\n",
      "COLLEGE    SUNBEAM\n",
      "course        DESD\n",
      "dtype: object\n"
     ]
    }
   ],
   "source": [
    "#4. Write a Pandas program to convert a dictionary to a Pandas series.\n",
    "s1 = pd.Series({\"Name\":\"GYAN\",\"COLLEGE\":\"SUNBEAM\",\"course\":\"DESD\"})\n",
    "print(s1)"
   ]
  },
  {
   "cell_type": "code",
   "execution_count": 8,
   "id": "159f19c8-4929-417d-b3b8-eda68d591ffc",
   "metadata": {},
   "outputs": [
    {
     "name": "stdout",
     "output_type": "stream",
     "text": [
      "0    a\n",
      "1    b\n",
      "2    c\n",
      "3    d\n",
      "dtype: object\n"
     ]
    }
   ],
   "source": [
    "#5. Write a Pandas program to convert a NumPy array to a Pandas series.\n",
    "data = np.array(['a', 'b', 'c', 'd']) \n",
    "s = pd.Series(data) \n",
    "print(s) \n"
   ]
  },
  {
   "cell_type": "code",
   "execution_count": 9,
   "id": "046343e7-aa60-4b51-a3aa-24970b8f61d5",
   "metadata": {},
   "outputs": [
    {
     "name": "stdout",
     "output_type": "stream",
     "text": [
      "Original Data Series:\n",
      "0       100\n",
      "1       200\n",
      "2    python\n",
      "3    300.12\n",
      "4       400\n",
      "dtype: object\n",
      "Change the said data type to numeric:\n",
      "0    100.00\n",
      "1    200.00\n",
      "2       NaN\n",
      "3    300.12\n",
      "4    400.00\n",
      "dtype: float64\n"
     ]
    }
   ],
   "source": [
    "#6. Write a Pandas program to change the data type of given a column or a Series.\n",
    "s1 = pd.Series(['100', '200', 'python', '300.12', '400'])\n",
    "print(\"Original Data Series:\")\n",
    "print(s1)\n",
    "print(\"Change the said data type to numeric:\")\n",
    "s2 = pd.to_numeric(s1, errors='coerce')\n",
    "print(s2)"
   ]
  },
  {
   "cell_type": "code",
   "execution_count": 10,
   "id": "6c47ff3e-bb02-48ea-8a92-fc3a368f4c7e",
   "metadata": {},
   "outputs": [
    {
     "name": "stdout",
     "output_type": "stream",
     "text": [
      "Original Data Series:\n",
      "0       100\n",
      "1       200\n",
      "2    python\n",
      "3    300.12\n",
      "4       400\n",
      "dtype: object\n",
      "Series to an array\n",
      "['100' '200' 'python' '300.12' '400']\n",
      "<class 'numpy.ndarray'>\n"
     ]
    }
   ],
   "source": [
    "#7. Write a Pandas program to convert a given Series to an array.\n",
    "s1 = pd.Series(['100', '200', 'python', '300.12', '400'])\n",
    "print(\"Original Data Series:\")\n",
    "print(s1)\n",
    "print(\"Series to an array\")\n",
    "a = s1.values\n",
    "print(a)\n",
    "print(type(a))"
   ]
  },
  {
   "cell_type": "code",
   "execution_count": 11,
   "id": "25037e7a-c9b9-4eef-baa9-4919fcafbec1",
   "metadata": {},
   "outputs": [
    {
     "name": "stdout",
     "output_type": "stream",
     "text": [
      "  name  age      id  marks\n",
      "0   P1   25  1234.0    NaN\n",
      "1   P2   35   456.0    NaN\n",
      "2   P3   20     NaN   85.0\n"
     ]
    }
   ],
   "source": [
    "#8. Write a Pandas program to create a dataframe from a dictionary and display it.\n",
    "def function():\n",
    "    p1 = ({\"name\":\"P1\",\"age\":25,\"id\":1234})\n",
    "    p2 = ({\"name\":\"P2\",\"age\":35,\"id\":456})\n",
    "    p3 = ({\"name\":\"P3\",\"age\":20,\"marks\":85})\n",
    "    \n",
    "    s1 = pd.Series(p1)\n",
    "    s2 = pd.Series(p2)\n",
    "    s3 = pd.Series(p3)\n",
    "    df = pd.DataFrame([s1,s2,s3])\n",
    "    \n",
    "    print(df)\n",
    "function()"
   ]
  },
  {
   "cell_type": "code",
   "execution_count": 12,
   "id": "45a8b32e-2bf8-462e-be87-e4d2b9516c20",
   "metadata": {},
   "outputs": [],
   "source": [
    "# 9. i) Create a list of empids and names (10 employees).\n",
    "#    ii) Convert list into Series.\n",
    "#    iii) Print type of Series.\n",
    "#    iv) Convert Series into DataFrame.\n",
    "#    v) a) Display all records.\n",
    "#       b) Display first five records.\n",
    "#       c) Display last five records.\n",
    "#       d) Display first two and last two records.\n",
    "#       e) Display name of 5th employee.\n",
    "#       f) Display record of 4th employee.\n",
    "#    vi) Save the record in csv file (MyRecord.csv)\n"
   ]
  },
  {
   "cell_type": "code",
   "execution_count": 1,
   "id": "cf0a438f-342b-475c-8b68-ae6892f63fba",
   "metadata": {},
   "outputs": [],
   "source": [
    "import pandas as pd"
   ]
  },
  {
   "cell_type": "code",
   "execution_count": 2,
   "id": "8f765e33-d208-4d68-bad6-86f5e314cf2e",
   "metadata": {},
   "outputs": [],
   "source": [
    "# Q9\n",
    "# i) Create a list of empids and names (10 employees).\n",
    "empid = [10001, 10002, 10003, 10004, 10005, 10006, 10007, 10008, 10009, 10010]\n",
    "name = ['Abhishek', 'Bipin', 'Chetan', 'Deep', 'Ekta', 'Firoz', 'Gyan', 'Hari', 'Indra', 'Jitendra']"
   ]
  },
  {
   "cell_type": "code",
   "execution_count": 3,
   "id": "db25b279-a3aa-490e-8b8a-d866059eefca",
   "metadata": {},
   "outputs": [],
   "source": [
    "# ii) Convert list into Series.\n",
    "emp_series = pd.Series(name, index=empid)"
   ]
  },
  {
   "cell_type": "code",
   "execution_count": 4,
   "id": "388105cf-009d-48f6-a57c-b51f17865dd8",
   "metadata": {},
   "outputs": [
    {
     "name": "stdout",
     "output_type": "stream",
     "text": [
      "Type of Series: <class 'pandas.core.series.Series'>\n"
     ]
    }
   ],
   "source": [
    "# iii) Print type of Series.\n",
    "print(\"Type of Series:\", type(emp_series))\n"
   ]
  },
  {
   "cell_type": "code",
   "execution_count": 6,
   "id": "11855d76-de53-4d87-b9a0-93220bc99a97",
   "metadata": {},
   "outputs": [],
   "source": [
    "# iv) Convert Series into DataFrame.\n",
    "emp_df = pd.DataFrame(emp_series, columns=['Name'])\n"
   ]
  },
  {
   "cell_type": "code",
   "execution_count": 7,
   "id": "2b0611f0-ac00-4032-a74e-87eadcb759d9",
   "metadata": {},
   "outputs": [
    {
     "name": "stdout",
     "output_type": "stream",
     "text": [
      "\n",
      "All records:\n",
      "            Name\n",
      "10001  Abhishek\n",
      "10002     Bipin\n",
      "10003    Chetan\n",
      "10004      Deep\n",
      "10005      Ekta\n",
      "10006     Firoz\n",
      "10007      Gyan\n",
      "10008      Hari\n",
      "10009     Indra\n",
      "10010  Jitendra\n"
     ]
    }
   ],
   "source": [
    "# v) a) Display all records.\n",
    "print(\"\\nAll records:\\n\", emp_df)"
   ]
  },
  {
   "cell_type": "code",
   "execution_count": 8,
   "id": "b34e336b-8651-48ca-a1a6-48caf37deb4e",
   "metadata": {},
   "outputs": [
    {
     "name": "stdout",
     "output_type": "stream",
     "text": [
      "\n",
      "First five records:\n",
      "            Name\n",
      "10001  Abhishek\n",
      "10002     Bipin\n",
      "10003    Chetan\n",
      "10004      Deep\n",
      "10005      Ekta\n",
      "\n",
      "Last five records:\n",
      "            Name\n",
      "10006     Firoz\n",
      "10007      Gyan\n",
      "10008      Hari\n",
      "10009     Indra\n",
      "10010  Jitendra\n"
     ]
    }
   ],
   "source": [
    "# v) b) Display first five records.\n",
    "#print(f\"\\nDisplay first five records.\\n = {emp_df[0:5]}\") \n",
    "\n",
    "print(\"\\nFirst five records:\\n\", emp_df.head())\n",
    "\n",
    "# v) c) Display last five records.\n",
    "#print(f\"Display last five records. = {emp_df.tail(5)}\")\n",
    "print(\"\\nLast five records:\\n\", emp_df.tail())"
   ]
  },
  {
   "cell_type": "code",
   "execution_count": 9,
   "id": "4acc8e35-0261-4c7c-8b64-a7a5dbbb58f2",
   "metadata": {},
   "outputs": [
    {
     "name": "stdout",
     "output_type": "stream",
     "text": [
      "\n",
      "First two and last two records:\n",
      "            Name\n",
      "10001  Abhishek\n",
      "10002     Bipin\n",
      "10009     Indra\n",
      "10010  Jitendra\n",
      "\n",
      "Name of 5th employee: Ekta\n",
      "\n",
      "Record of 4th employee:\n",
      " Name    Deep\n",
      "Name: 10004, dtype: object\n"
     ]
    }
   ],
   "source": [
    "# v) d) Display first two and last two records.\n",
    "print(\"\\nFirst two and last two records:\\n\", pd.concat([emp_df.head(2), emp_df.tail(2)]))\n",
    "\n",
    "# v) e) Display name of 5th employee.\n",
    "print(\"\\nName of 5th employee:\", emp_df.iloc[4]['Name'])\n",
    "\n",
    "# v) f) Display record of 4th employee.\n",
    "print(\"\\nRecord of 4th employee:\\n\", emp_df.iloc[3])\n"
   ]
  },
  {
   "cell_type": "code",
   "execution_count": 10,
   "id": "02849184-d5ce-4e93-b61f-1c29b879b656",
   "metadata": {},
   "outputs": [
    {
     "name": "stdout",
     "output_type": "stream",
     "text": [
      "\n",
      " Records saved in csv file\n",
      "\n"
     ]
    }
   ],
   "source": [
    "# vi) Save the record in csv file (MyRecord.csv)\n",
    "emp_df.to_csv(\"MyRecord.csv\", index_label=\"EmpID\")\n",
    "print(\"\\n Records saved in csv file\\n\")"
   ]
  },
  {
   "cell_type": "code",
   "execution_count": 52,
   "id": "bf74e6e1-ca76-4a3a-98d6-ef8968f9298d",
   "metadata": {},
   "outputs": [
    {
     "name": "stdout",
     "output_type": "stream",
     "text": [
      "           Name  Salary\n",
      "EmpID                  \n",
      "10001  Abhishek   60000\n",
      "10002     Bipin   70000\n",
      "10003    Chetan   55000\n",
      "10004      Deep   65000\n",
      "10005      Ekta   60000\n",
      "10006     Firoz   75000\n",
      "10007      Gyan   70000\n",
      "10008      Hari   60000\n",
      "10009     Indra   65000\n",
      "10010  Jitendra   70000\n"
     ]
    }
   ],
   "source": [
    "#10. i) Read the MyRecord.csv file.\n",
    "emp_df = pd.read_csv(\"MyRecord.csv\", index_col=\"EmpID\")\n",
    "   # ii) Create a new column Salary\n",
    "salaries = [60000, 70000, 55000, 65000, 60000, 75000, 70000, 60000, 65000, 70000]\n",
    "emp_df['Salary'] = salaries\n",
    "print(emp_df)\n",
    "emp_df.to_csv(\"MyRecord.csv\", index_label=\"EmpID\")\n"
   ]
  },
  {
   "cell_type": "code",
   "execution_count": 12,
   "id": "85b900b2-007c-4155-bbda-0525797ddff1",
   "metadata": {},
   "outputs": [
    {
     "name": "stdout",
     "output_type": "stream",
     "text": [
      "Advertising.csv created successfully!\n"
     ]
    }
   ],
   "source": [
    "#make Advertising file\n",
    "import pandas as pd\n",
    "data = {\n",
    "    'TV': [230.1, 44.5, 17.2, 151.5, 180.8, 55, 88.05, 66.33, 200, 500.5],\n",
    "    'radio': [37.8, 39.3, 45.9, 41.3, 10.8, 66.55, 77.8, 88.8, 99.5, 101.1],\n",
    "    'newspaper': [69.2, 45.1,58 , 58.5, 58.4, 66.2, 77.8, 88.9,99.1, 55.5],\n",
    "    'sales': [22.1, 10.4, 9.3, 18.5, 12.9, 20, 19.5, 16.6, 17.7, 18.9]\n",
    "}\n",
    "df = pd.DataFrame(data)\n",
    "df.to_csv(\"Advertising.csv\", index=False)\n",
    "\n",
    "print(\"Advertising.csv created successfully!\")"
   ]
  },
  {
   "cell_type": "code",
   "execution_count": 13,
   "id": "3e3802f9-b4f4-45fe-b20c-fe951b4f9480",
   "metadata": {},
   "outputs": [],
   "source": [
    "import pandas as pd\n"
   ]
  },
  {
   "cell_type": "code",
   "execution_count": 17,
   "id": "ebd556b4-4f0c-4783-9b90-3a7d1b711315",
   "metadata": {},
   "outputs": [
    {
     "name": "stdout",
     "output_type": "stream",
     "text": [
      "First five records:\n"
     ]
    },
    {
     "data": {
      "text/html": [
       "<div>\n",
       "<style scoped>\n",
       "    .dataframe tbody tr th:only-of-type {\n",
       "        vertical-align: middle;\n",
       "    }\n",
       "\n",
       "    .dataframe tbody tr th {\n",
       "        vertical-align: top;\n",
       "    }\n",
       "\n",
       "    .dataframe thead th {\n",
       "        text-align: right;\n",
       "    }\n",
       "</style>\n",
       "<table border=\"1\" class=\"dataframe\">\n",
       "  <thead>\n",
       "    <tr style=\"text-align: right;\">\n",
       "      <th></th>\n",
       "      <th>TV</th>\n",
       "      <th>radio</th>\n",
       "      <th>newspaper</th>\n",
       "      <th>sales</th>\n",
       "    </tr>\n",
       "  </thead>\n",
       "  <tbody>\n",
       "    <tr>\n",
       "      <th>0</th>\n",
       "      <td>230.1</td>\n",
       "      <td>37.8</td>\n",
       "      <td>69.2</td>\n",
       "      <td>22.1</td>\n",
       "    </tr>\n",
       "    <tr>\n",
       "      <th>1</th>\n",
       "      <td>44.5</td>\n",
       "      <td>39.3</td>\n",
       "      <td>45.1</td>\n",
       "      <td>10.4</td>\n",
       "    </tr>\n",
       "    <tr>\n",
       "      <th>2</th>\n",
       "      <td>17.2</td>\n",
       "      <td>45.9</td>\n",
       "      <td>58.0</td>\n",
       "      <td>9.3</td>\n",
       "    </tr>\n",
       "    <tr>\n",
       "      <th>3</th>\n",
       "      <td>151.5</td>\n",
       "      <td>41.3</td>\n",
       "      <td>58.5</td>\n",
       "      <td>18.5</td>\n",
       "    </tr>\n",
       "    <tr>\n",
       "      <th>4</th>\n",
       "      <td>180.8</td>\n",
       "      <td>10.8</td>\n",
       "      <td>58.4</td>\n",
       "      <td>12.9</td>\n",
       "    </tr>\n",
       "  </tbody>\n",
       "</table>\n",
       "</div>"
      ],
      "text/plain": [
       "      TV  radio  newspaper  sales\n",
       "0  230.1   37.8       69.2   22.1\n",
       "1   44.5   39.3       45.1   10.4\n",
       "2   17.2   45.9       58.0    9.3\n",
       "3  151.5   41.3       58.5   18.5\n",
       "4  180.8   10.8       58.4   12.9"
      ]
     },
     "execution_count": 17,
     "metadata": {},
     "output_type": "execute_result"
    }
   ],
   "source": [
    "#Q 11. \n",
    "\n",
    "# i) Read the dataset \"Advertising.csv\" into a DataFrame.\n",
    "df = pd.read_csv(\"Advertising.csv\")\n",
    "\n",
    "#ii) Print first five records of dataset.\n",
    "print(\"First five records:\")\n",
    "df.head()\n"
   ]
  },
  {
   "cell_type": "code",
   "execution_count": 18,
   "id": "fc87b3aa-c83e-4d89-a4e2-15508397f4d8",
   "metadata": {},
   "outputs": [
    {
     "name": "stdout",
     "output_type": "stream",
     "text": [
      "\n",
      "Last five records:\n"
     ]
    },
    {
     "data": {
      "text/html": [
       "<div>\n",
       "<style scoped>\n",
       "    .dataframe tbody tr th:only-of-type {\n",
       "        vertical-align: middle;\n",
       "    }\n",
       "\n",
       "    .dataframe tbody tr th {\n",
       "        vertical-align: top;\n",
       "    }\n",
       "\n",
       "    .dataframe thead th {\n",
       "        text-align: right;\n",
       "    }\n",
       "</style>\n",
       "<table border=\"1\" class=\"dataframe\">\n",
       "  <thead>\n",
       "    <tr style=\"text-align: right;\">\n",
       "      <th></th>\n",
       "      <th>TV</th>\n",
       "      <th>radio</th>\n",
       "      <th>newspaper</th>\n",
       "      <th>sales</th>\n",
       "    </tr>\n",
       "  </thead>\n",
       "  <tbody>\n",
       "    <tr>\n",
       "      <th>5</th>\n",
       "      <td>55.00</td>\n",
       "      <td>66.55</td>\n",
       "      <td>66.2</td>\n",
       "      <td>20.0</td>\n",
       "    </tr>\n",
       "    <tr>\n",
       "      <th>6</th>\n",
       "      <td>88.05</td>\n",
       "      <td>77.80</td>\n",
       "      <td>77.8</td>\n",
       "      <td>19.5</td>\n",
       "    </tr>\n",
       "    <tr>\n",
       "      <th>7</th>\n",
       "      <td>66.33</td>\n",
       "      <td>88.80</td>\n",
       "      <td>88.9</td>\n",
       "      <td>16.6</td>\n",
       "    </tr>\n",
       "    <tr>\n",
       "      <th>8</th>\n",
       "      <td>200.00</td>\n",
       "      <td>99.50</td>\n",
       "      <td>99.1</td>\n",
       "      <td>17.7</td>\n",
       "    </tr>\n",
       "    <tr>\n",
       "      <th>9</th>\n",
       "      <td>500.50</td>\n",
       "      <td>101.10</td>\n",
       "      <td>55.5</td>\n",
       "      <td>18.9</td>\n",
       "    </tr>\n",
       "  </tbody>\n",
       "</table>\n",
       "</div>"
      ],
      "text/plain": [
       "       TV   radio  newspaper  sales\n",
       "5   55.00   66.55       66.2   20.0\n",
       "6   88.05   77.80       77.8   19.5\n",
       "7   66.33   88.80       88.9   16.6\n",
       "8  200.00   99.50       99.1   17.7\n",
       "9  500.50  101.10       55.5   18.9"
      ]
     },
     "execution_count": 18,
     "metadata": {},
     "output_type": "execute_result"
    }
   ],
   "source": [
    "\n",
    "# iii) Print last five records from dataset.\n",
    "print(\"\\nLast five records:\")\n",
    "df.tail()"
   ]
  },
  {
   "cell_type": "code",
   "execution_count": 19,
   "id": "d3b6a8f2-2272-4578-a2e8-4adc25740299",
   "metadata": {},
   "outputs": [
    {
     "name": "stdout",
     "output_type": "stream",
     "text": [
      "\n",
      "Columns in the dataset:\n"
     ]
    },
    {
     "data": {
      "text/plain": [
       "Index(['TV', 'radio', 'newspaper', 'sales'], dtype='object')"
      ]
     },
     "execution_count": 19,
     "metadata": {},
     "output_type": "execute_result"
    }
   ],
   "source": [
    "# iv) Display the columns inside the dataset.\n",
    "print(\"\\nColumns in the dataset:\")\n",
    "df.columns\n"
   ]
  },
  {
   "cell_type": "code",
   "execution_count": 23,
   "id": "70220966-e44c-4666-8be0-16e80f596270",
   "metadata": {},
   "outputs": [
    {
     "name": "stdout",
     "output_type": "stream",
     "text": [
      "\n",
      "Last three records:\n",
      "       TV  radio  newspaper  sales\n",
      "7   66.33   88.8       88.9   16.6\n",
      "8  200.00   99.5       99.1   17.7\n",
      "9  500.50  101.1       55.5   18.9\n",
      "\n",
      "Information about the dataset:\n",
      "<class 'pandas.core.frame.DataFrame'>\n",
      "RangeIndex: 10 entries, 0 to 9\n",
      "Data columns (total 4 columns):\n",
      " #   Column     Non-Null Count  Dtype  \n",
      "---  ------     --------------  -----  \n",
      " 0   TV         10 non-null     float64\n",
      " 1   radio      10 non-null     float64\n",
      " 2   newspaper  10 non-null     float64\n",
      " 3   sales      10 non-null     float64\n",
      "dtypes: float64(4)\n",
      "memory usage: 448.0 bytes\n"
     ]
    }
   ],
   "source": [
    "# v) Display last three records from dataset.\n",
    "print(\"\\nLast three records:\")\n",
    "print(df.tail(3))\n",
    "\n",
    "# vi) Display information about the dataset and analyze the data.\n",
    "print(\"\\nInformation about the dataset:\")\n",
    "df.info()"
   ]
  },
  {
   "cell_type": "code",
   "execution_count": 24,
   "id": "b35e30dd-c89e-4551-89ad-4d1fbaf4093b",
   "metadata": {},
   "outputs": [
    {
     "name": "stdout",
     "output_type": "stream",
     "text": [
      "\n",
      "Types of each column:\n"
     ]
    },
    {
     "data": {
      "text/plain": [
       "TV           float64\n",
       "radio        float64\n",
       "newspaper    float64\n",
       "sales        float64\n",
       "dtype: object"
      ]
     },
     "execution_count": 24,
     "metadata": {},
     "output_type": "execute_result"
    }
   ],
   "source": [
    "# vii) Display types of each column.\n",
    "print(\"\\nTypes of each column:\")\n",
    "df.dtypes\n"
   ]
  },
  {
   "cell_type": "code",
   "execution_count": 25,
   "id": "aa618215-b20d-47cb-b46f-ad3f37513da7",
   "metadata": {},
   "outputs": [
    {
     "name": "stdout",
     "output_type": "stream",
     "text": [
      "\n",
      "Null values in each column:\n"
     ]
    },
    {
     "data": {
      "text/plain": [
       "TV           0\n",
       "radio        0\n",
       "newspaper    0\n",
       "sales        0\n",
       "dtype: int64"
      ]
     },
     "execution_count": 25,
     "metadata": {},
     "output_type": "execute_result"
    }
   ],
   "source": [
    "# viii) Check for null values in the dataset and display the sum of null values inside each column.\n",
    "print(\"\\nNull values in each column:\")\n",
    "df.isna().sum()"
   ]
  },
  {
   "cell_type": "code",
   "execution_count": 26,
   "id": "f6a75fc2-b558-40bc-8a85-b8fd12a939c9",
   "metadata": {},
   "outputs": [
    {
     "name": "stdout",
     "output_type": "stream",
     "text": [
      "\n",
      "First ten records after dropping 'radio' column:\n",
      "       TV  newspaper  sales\n",
      "0  230.10       69.2   22.1\n",
      "1   44.50       45.1   10.4\n",
      "2   17.20       58.0    9.3\n",
      "3  151.50       58.5   18.5\n",
      "4  180.80       58.4   12.9\n",
      "5   55.00       66.2   20.0\n",
      "6   88.05       77.8   19.5\n",
      "7   66.33       88.9   16.6\n",
      "8  200.00       99.1   17.7\n",
      "9  500.50       55.5   18.9\n"
     ]
    }
   ],
   "source": [
    "# ix) Drop a column 'radio' from the dataset and display first ten records.\n",
    "df.drop(columns=['radio'], inplace=True)\n",
    "print(\"\\nFirst ten records after dropping 'radio' column:\")\n",
    "print(df.head(10))"
   ]
  },
  {
   "cell_type": "code",
   "execution_count": 27,
   "id": "b7ee7ad0-02dd-426d-bf1b-919e9a492165",
   "metadata": {},
   "outputs": [
    {
     "name": "stdout",
     "output_type": "stream",
     "text": [
      "\n",
      "DataFrame with updated sales:\n"
     ]
    },
    {
     "data": {
      "text/html": [
       "<div>\n",
       "<style scoped>\n",
       "    .dataframe tbody tr th:only-of-type {\n",
       "        vertical-align: middle;\n",
       "    }\n",
       "\n",
       "    .dataframe tbody tr th {\n",
       "        vertical-align: top;\n",
       "    }\n",
       "\n",
       "    .dataframe thead th {\n",
       "        text-align: right;\n",
       "    }\n",
       "</style>\n",
       "<table border=\"1\" class=\"dataframe\">\n",
       "  <thead>\n",
       "    <tr style=\"text-align: right;\">\n",
       "      <th></th>\n",
       "      <th>TV</th>\n",
       "      <th>newspaper</th>\n",
       "      <th>sales</th>\n",
       "      <th>updated_sales</th>\n",
       "    </tr>\n",
       "  </thead>\n",
       "  <tbody>\n",
       "    <tr>\n",
       "      <th>0</th>\n",
       "      <td>230.1</td>\n",
       "      <td>69.2</td>\n",
       "      <td>22.1</td>\n",
       "      <td>24.31</td>\n",
       "    </tr>\n",
       "    <tr>\n",
       "      <th>1</th>\n",
       "      <td>44.5</td>\n",
       "      <td>45.1</td>\n",
       "      <td>10.4</td>\n",
       "      <td>11.44</td>\n",
       "    </tr>\n",
       "    <tr>\n",
       "      <th>2</th>\n",
       "      <td>17.2</td>\n",
       "      <td>58.0</td>\n",
       "      <td>9.3</td>\n",
       "      <td>10.23</td>\n",
       "    </tr>\n",
       "    <tr>\n",
       "      <th>3</th>\n",
       "      <td>151.5</td>\n",
       "      <td>58.5</td>\n",
       "      <td>18.5</td>\n",
       "      <td>20.35</td>\n",
       "    </tr>\n",
       "    <tr>\n",
       "      <th>4</th>\n",
       "      <td>180.8</td>\n",
       "      <td>58.4</td>\n",
       "      <td>12.9</td>\n",
       "      <td>14.19</td>\n",
       "    </tr>\n",
       "  </tbody>\n",
       "</table>\n",
       "</div>"
      ],
      "text/plain": [
       "      TV  newspaper  sales  updated_sales\n",
       "0  230.1       69.2   22.1          24.31\n",
       "1   44.5       45.1   10.4          11.44\n",
       "2   17.2       58.0    9.3          10.23\n",
       "3  151.5       58.5   18.5          20.35\n",
       "4  180.8       58.4   12.9          14.19"
      ]
     },
     "execution_count": 27,
     "metadata": {},
     "output_type": "execute_result"
    }
   ],
   "source": [
    "# x) Increase the sales by 10% and add a new column \"updated_sales\" in the DataFrame.\n",
    "df['updated_sales'] = df['sales'] * 1.1\n",
    "print(\"\\nDataFrame with updated sales:\")\n",
    "df.head()"
   ]
  },
  {
   "cell_type": "code",
   "execution_count": 28,
   "id": "50751bf2-9ee7-4fff-8e73-3d07331b37df",
   "metadata": {},
   "outputs": [
    {
     "name": "stdout",
     "output_type": "stream",
     "text": [
      "\n",
      "Shape of data: (10, 4)\n"
     ]
    }
   ],
   "source": [
    "# xi) Display shape of data.\n",
    "print(\"\\nShape of data:\", df.shape)"
   ]
  },
  {
   "cell_type": "code",
   "execution_count": 29,
   "id": "cf4e7d62-7632-46d6-8d22-4ab4bda48415",
   "metadata": {},
   "outputs": [
    {
     "name": "stdout",
     "output_type": "stream",
     "text": [
      "\n",
      "Statistics for each column:\n",
      "               TV  newspaper      sales  updated_sales\n",
      "count   10.000000  10.000000  10.000000      10.000000\n",
      "mean   153.398000  67.670000  16.590000      18.249000\n",
      "std    141.904212  16.555365   4.291451       4.720597\n",
      "min     17.200000  45.100000   9.300000      10.230000\n",
      "25%     57.832500  58.100000  13.825000      15.207500\n",
      "50%    119.775000  62.350000  18.100000      19.910000\n",
      "75%    195.200000  75.650000  19.350000      21.285000\n",
      "max    500.500000  99.100000  22.100000      24.310000\n",
      "\n",
      "Description of the dataset:\n",
      "               TV  newspaper      sales  updated_sales\n",
      "count   10.000000  10.000000  10.000000      10.000000\n",
      "mean   153.398000  67.670000  16.590000      18.249000\n",
      "std    141.904212  16.555365   4.291451       4.720597\n",
      "min     17.200000  45.100000   9.300000      10.230000\n",
      "25%     57.832500  58.100000  13.825000      15.207500\n",
      "50%    119.775000  62.350000  18.100000      19.910000\n",
      "75%    195.200000  75.650000  19.350000      21.285000\n",
      "max    500.500000  99.100000  22.100000      24.310000\n"
     ]
    }
   ],
   "source": [
    "# xii) Find out maximum, minimum, mean, median, standard deviation value of each column.\n",
    "print(\"\\nStatistics for each column:\")\n",
    "print(df.describe())\n",
    "\n",
    "# xiii) Describe the dataset.\n",
    "print(\"\\nDescription of the dataset:\")\n",
    "print(df.describe(include='all'))"
   ]
  },
  {
   "cell_type": "code",
   "execution_count": 30,
   "id": "f0387638-037a-418d-8729-3871eb34f5ff",
   "metadata": {},
   "outputs": [],
   "source": [
    "# 12. Refer the dataset \"Salaries.csv\" and perform following tasks.\n",
    "# i) Read the dataset in dataframe.\n",
    "df = pd.read_csv(\"Salary.csv\")"
   ]
  },
  {
   "cell_type": "code",
   "execution_count": 31,
   "id": "54afba5a-41c4-40f8-91c8-2fbe192c1e2e",
   "metadata": {},
   "outputs": [
    {
     "name": "stdout",
     "output_type": "stream",
     "text": [
      "First five records:\n"
     ]
    },
    {
     "data": {
      "text/html": [
       "<div>\n",
       "<style scoped>\n",
       "    .dataframe tbody tr th:only-of-type {\n",
       "        vertical-align: middle;\n",
       "    }\n",
       "\n",
       "    .dataframe tbody tr th {\n",
       "        vertical-align: top;\n",
       "    }\n",
       "\n",
       "    .dataframe thead th {\n",
       "        text-align: right;\n",
       "    }\n",
       "</style>\n",
       "<table border=\"1\" class=\"dataframe\">\n",
       "  <thead>\n",
       "    <tr style=\"text-align: right;\">\n",
       "      <th></th>\n",
       "      <th>YearsExperience</th>\n",
       "      <th>Salary</th>\n",
       "    </tr>\n",
       "  </thead>\n",
       "  <tbody>\n",
       "    <tr>\n",
       "      <th>0</th>\n",
       "      <td>1.1</td>\n",
       "      <td>39343</td>\n",
       "    </tr>\n",
       "    <tr>\n",
       "      <th>1</th>\n",
       "      <td>1.3</td>\n",
       "      <td>46205</td>\n",
       "    </tr>\n",
       "    <tr>\n",
       "      <th>2</th>\n",
       "      <td>1.5</td>\n",
       "      <td>37731</td>\n",
       "    </tr>\n",
       "    <tr>\n",
       "      <th>3</th>\n",
       "      <td>2.0</td>\n",
       "      <td>43525</td>\n",
       "    </tr>\n",
       "    <tr>\n",
       "      <th>4</th>\n",
       "      <td>2.2</td>\n",
       "      <td>39891</td>\n",
       "    </tr>\n",
       "  </tbody>\n",
       "</table>\n",
       "</div>"
      ],
      "text/plain": [
       "   YearsExperience  Salary\n",
       "0              1.1   39343\n",
       "1              1.3   46205\n",
       "2              1.5   37731\n",
       "3              2.0   43525\n",
       "4              2.2   39891"
      ]
     },
     "execution_count": 31,
     "metadata": {},
     "output_type": "execute_result"
    }
   ],
   "source": [
    "# ii) display first five records.\n",
    "print(\"First five records:\")\n",
    "df.head()"
   ]
  },
  {
   "cell_type": "code",
   "execution_count": 32,
   "id": "d597080e-e8a8-48f8-9281-31f25ea3a3f6",
   "metadata": {},
   "outputs": [
    {
     "name": "stdout",
     "output_type": "stream",
     "text": [
      "ten records:\n"
     ]
    },
    {
     "data": {
      "text/html": [
       "<div>\n",
       "<style scoped>\n",
       "    .dataframe tbody tr th:only-of-type {\n",
       "        vertical-align: middle;\n",
       "    }\n",
       "\n",
       "    .dataframe tbody tr th {\n",
       "        vertical-align: top;\n",
       "    }\n",
       "\n",
       "    .dataframe thead th {\n",
       "        text-align: right;\n",
       "    }\n",
       "</style>\n",
       "<table border=\"1\" class=\"dataframe\">\n",
       "  <thead>\n",
       "    <tr style=\"text-align: right;\">\n",
       "      <th></th>\n",
       "      <th>YearsExperience</th>\n",
       "      <th>Salary</th>\n",
       "    </tr>\n",
       "  </thead>\n",
       "  <tbody>\n",
       "    <tr>\n",
       "      <th>0</th>\n",
       "      <td>1.1</td>\n",
       "      <td>39343</td>\n",
       "    </tr>\n",
       "    <tr>\n",
       "      <th>1</th>\n",
       "      <td>1.3</td>\n",
       "      <td>46205</td>\n",
       "    </tr>\n",
       "    <tr>\n",
       "      <th>2</th>\n",
       "      <td>1.5</td>\n",
       "      <td>37731</td>\n",
       "    </tr>\n",
       "    <tr>\n",
       "      <th>3</th>\n",
       "      <td>2.0</td>\n",
       "      <td>43525</td>\n",
       "    </tr>\n",
       "    <tr>\n",
       "      <th>4</th>\n",
       "      <td>2.2</td>\n",
       "      <td>39891</td>\n",
       "    </tr>\n",
       "    <tr>\n",
       "      <th>5</th>\n",
       "      <td>2.9</td>\n",
       "      <td>56642</td>\n",
       "    </tr>\n",
       "    <tr>\n",
       "      <th>6</th>\n",
       "      <td>3.0</td>\n",
       "      <td>60150</td>\n",
       "    </tr>\n",
       "    <tr>\n",
       "      <th>7</th>\n",
       "      <td>3.2</td>\n",
       "      <td>54445</td>\n",
       "    </tr>\n",
       "    <tr>\n",
       "      <th>8</th>\n",
       "      <td>3.2</td>\n",
       "      <td>64445</td>\n",
       "    </tr>\n",
       "    <tr>\n",
       "      <th>9</th>\n",
       "      <td>3.7</td>\n",
       "      <td>57189</td>\n",
       "    </tr>\n",
       "  </tbody>\n",
       "</table>\n",
       "</div>"
      ],
      "text/plain": [
       "   YearsExperience  Salary\n",
       "0              1.1   39343\n",
       "1              1.3   46205\n",
       "2              1.5   37731\n",
       "3              2.0   43525\n",
       "4              2.2   39891\n",
       "5              2.9   56642\n",
       "6              3.0   60150\n",
       "7              3.2   54445\n",
       "8              3.2   64445\n",
       "9              3.7   57189"
      ]
     },
     "execution_count": 32,
     "metadata": {},
     "output_type": "execute_result"
    }
   ],
   "source": [
    "# iii) display first ten records.\n",
    "print(\"ten records:\")\n",
    "df.head(10)\n"
   ]
  },
  {
   "cell_type": "code",
   "execution_count": 33,
   "id": "37b471c8-a56c-42ca-b7fd-6c076d91e395",
   "metadata": {},
   "outputs": [
    {
     "name": "stdout",
     "output_type": "stream",
     "text": [
      "last five records:\n",
      "    YearsExperience  Salary\n",
      "28             10.3  122391\n",
      "29             10.5  121872\n",
      "30             11.0  140000\n",
      "31             12.0  155000\n",
      "32             13.0  156000\n",
      "last ten records:\n"
     ]
    },
    {
     "data": {
      "text/html": [
       "<div>\n",
       "<style scoped>\n",
       "    .dataframe tbody tr th:only-of-type {\n",
       "        vertical-align: middle;\n",
       "    }\n",
       "\n",
       "    .dataframe tbody tr th {\n",
       "        vertical-align: top;\n",
       "    }\n",
       "\n",
       "    .dataframe thead th {\n",
       "        text-align: right;\n",
       "    }\n",
       "</style>\n",
       "<table border=\"1\" class=\"dataframe\">\n",
       "  <thead>\n",
       "    <tr style=\"text-align: right;\">\n",
       "      <th></th>\n",
       "      <th>YearsExperience</th>\n",
       "      <th>Salary</th>\n",
       "    </tr>\n",
       "  </thead>\n",
       "  <tbody>\n",
       "    <tr>\n",
       "      <th>23</th>\n",
       "      <td>8.2</td>\n",
       "      <td>113812</td>\n",
       "    </tr>\n",
       "    <tr>\n",
       "      <th>24</th>\n",
       "      <td>8.7</td>\n",
       "      <td>109431</td>\n",
       "    </tr>\n",
       "    <tr>\n",
       "      <th>25</th>\n",
       "      <td>9.0</td>\n",
       "      <td>105582</td>\n",
       "    </tr>\n",
       "    <tr>\n",
       "      <th>26</th>\n",
       "      <td>9.5</td>\n",
       "      <td>116969</td>\n",
       "    </tr>\n",
       "    <tr>\n",
       "      <th>27</th>\n",
       "      <td>9.6</td>\n",
       "      <td>112635</td>\n",
       "    </tr>\n",
       "    <tr>\n",
       "      <th>28</th>\n",
       "      <td>10.3</td>\n",
       "      <td>122391</td>\n",
       "    </tr>\n",
       "    <tr>\n",
       "      <th>29</th>\n",
       "      <td>10.5</td>\n",
       "      <td>121872</td>\n",
       "    </tr>\n",
       "    <tr>\n",
       "      <th>30</th>\n",
       "      <td>11.0</td>\n",
       "      <td>140000</td>\n",
       "    </tr>\n",
       "    <tr>\n",
       "      <th>31</th>\n",
       "      <td>12.0</td>\n",
       "      <td>155000</td>\n",
       "    </tr>\n",
       "    <tr>\n",
       "      <th>32</th>\n",
       "      <td>13.0</td>\n",
       "      <td>156000</td>\n",
       "    </tr>\n",
       "  </tbody>\n",
       "</table>\n",
       "</div>"
      ],
      "text/plain": [
       "    YearsExperience  Salary\n",
       "23              8.2  113812\n",
       "24              8.7  109431\n",
       "25              9.0  105582\n",
       "26              9.5  116969\n",
       "27              9.6  112635\n",
       "28             10.3  122391\n",
       "29             10.5  121872\n",
       "30             11.0  140000\n",
       "31             12.0  155000\n",
       "32             13.0  156000"
      ]
     },
     "execution_count": 33,
     "metadata": {},
     "output_type": "execute_result"
    }
   ],
   "source": [
    "# iv) display last five records.\n",
    "print(\"last five records:\")\n",
    "print(df.tail(5))\n",
    "\n",
    "# v) display last ten records.\n",
    "print(\"last ten records:\")\n",
    "df.tail(10)"
   ]
  },
  {
   "cell_type": "code",
   "execution_count": 34,
   "id": "d68bb099-092e-42b9-a2b2-c32192f164d4",
   "metadata": {},
   "outputs": [
    {
     "name": "stdout",
     "output_type": "stream",
     "text": [
      "\n",
      "Columns in the dataset:\n",
      "Index(['YearsExperience', 'Salary'], dtype='object')\n",
      "\n",
      "Shape of data: (33, 2)\n"
     ]
    }
   ],
   "source": [
    "# vi) display the columns inside the dataset.\n",
    "print(\"\\nColumns in the dataset:\")\n",
    "print(df.columns)\n",
    "\n",
    "# vii) display shape of data.\n",
    "print(\"\\nShape of data:\", df.shape)"
   ]
  },
  {
   "cell_type": "code",
   "execution_count": 35,
   "id": "2b6ea070-71c4-4ea5-8dd3-7f6c9bb84189",
   "metadata": {},
   "outputs": [
    {
     "name": "stdout",
     "output_type": "stream",
     "text": [
      "\n",
      "Description of the dataset:\n",
      "       YearsExperience         Salary\n",
      "count        33.000000      33.000000\n",
      "mean          5.921212   82760.303030\n",
      "std           3.342413   34014.620992\n",
      "min           1.100000   37731.000000\n",
      "25%           3.200000   56957.000000\n",
      "50%           5.100000   67938.000000\n",
      "75%           8.700000  109431.000000\n",
      "max          13.000000  156000.000000\n",
      "\n",
      "Information about the dataset:\n",
      "<class 'pandas.core.frame.DataFrame'>\n",
      "RangeIndex: 33 entries, 0 to 32\n",
      "Data columns (total 2 columns):\n",
      " #   Column           Non-Null Count  Dtype  \n",
      "---  ------           --------------  -----  \n",
      " 0   YearsExperience  33 non-null     float64\n",
      " 1   Salary           33 non-null     int64  \n",
      "dtypes: float64(1), int64(1)\n",
      "memory usage: 656.0 bytes\n"
     ]
    }
   ],
   "source": [
    "# viii) describe the dataset.\n",
    "print(\"\\nDescription of the dataset:\")\n",
    "print(df.describe(include='all'))\n",
    "\n",
    "# ix) display the information about the dataset and analyse the data.\n",
    "print(\"\\nInformation about the dataset:\")\n",
    "df.info()\n"
   ]
  },
  {
   "cell_type": "code",
   "execution_count": 36,
   "id": "b04d7ab9-509e-43c2-83f9-36fc2dd71fa6",
   "metadata": {},
   "outputs": [
    {
     "name": "stdout",
     "output_type": "stream",
     "text": [
      "YearsExperience    float64\n",
      "Salary               int64\n",
      "dtype: object\n",
      "\n",
      "Statistics for each column:\n",
      "       YearsExperience         Salary\n",
      "count        33.000000      33.000000\n",
      "mean          5.921212   82760.303030\n",
      "std           3.342413   34014.620992\n",
      "min           1.100000   37731.000000\n",
      "25%           3.200000   56957.000000\n",
      "50%           5.100000   67938.000000\n",
      "75%           8.700000  109431.000000\n",
      "max          13.000000  156000.000000\n"
     ]
    }
   ],
   "source": [
    "# x) display types of each columns.print(\"\\nTypes of each column:\")\n",
    "print(df.dtypes)\n",
    "\n",
    "# xi) Find out maximum,minimum,mean,median,standard deviation value of each column.\n",
    "print(\"\\nStatistics for each column:\")\n",
    "print(df.describe())\n",
    "\n"
   ]
  },
  {
   "cell_type": "code",
   "execution_count": null,
   "id": "4f5d3d4b-8d53-48fa-ac8d-b60989a43853",
   "metadata": {},
   "outputs": [],
   "source": []
  }
 ],
 "metadata": {
  "kernelspec": {
   "display_name": "Python 3 (ipykernel)",
   "language": "python",
   "name": "python3"
  },
  "language_info": {
   "codemirror_mode": {
    "name": "ipython",
    "version": 3
   },
   "file_extension": ".py",
   "mimetype": "text/x-python",
   "name": "python",
   "nbconvert_exporter": "python",
   "pygments_lexer": "ipython3",
   "version": "3.10.12"
  }
 },
 "nbformat": 4,
 "nbformat_minor": 5
}
